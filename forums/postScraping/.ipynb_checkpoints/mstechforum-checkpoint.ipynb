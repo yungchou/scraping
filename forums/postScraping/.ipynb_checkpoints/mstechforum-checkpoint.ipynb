{
 "cells": [
  {
   "cell_type": "code",
   "execution_count": 161,
   "metadata": {},
   "outputs": [
    {
     "name": "stdout",
     "output_type": "stream",
     "text": [
      "panda\t\t 0.23.4\n",
      "numpy\t\t 1.15.2\n",
      "matplotlib\t 3.0.0\n",
      "pyplot\t\t 0.23.4\n"
     ]
    }
   ],
   "source": [
    "import json\n",
    "import pandas as pd; print('panda\\t\\t',pd.__version__)\n",
    "import numpy as np; print('numpy\\t\\t',np.version.version)\n",
    "import matplotlib; print('matplotlib\\t',matplotlib.__version__); matplotlib.style.use('ggplot')\n",
    "import matplotlib.pyplot as plt; print('pyplot\\t\\t',pd.__version__)"
   ]
  },
  {
   "cell_type": "markdown",
   "metadata": {},
   "source": [
    "- The data was scrapted in October of 2018 from [Microsoft TechNet Forums] (https://social.technet.microsoft.com/Forums/en-us/home) which is an online portal hosting forums for users to submit questions and get technical support from Internet user community and the Microsoft product development teams. \n",
    "- The dataset is in json format"
   ]
  },
  {
   "cell_type": "code",
   "execution_count": 226,
   "metadata": {},
   "outputs": [],
   "source": [
    "df = pd.DataFrame.from_dict(json.load(open('z.json')), orient='columns')"
   ]
  },
  {
   "cell_type": "markdown",
   "metadata": {},
   "source": [
    "- Some general examination of the dataset"
   ]
  },
  {
   "cell_type": "code",
   "execution_count": null,
   "metadata": {},
   "outputs": [],
   "source": [
    "#df.info()"
   ]
  },
  {
   "cell_type": "code",
   "execution_count": null,
   "metadata": {},
   "outputs": [],
   "source": [
    "print('shape = ',df.shape, ', ',df.index)\n",
    "#df.columns\n",
    "df.dtypes"
   ]
  },
  {
   "cell_type": "markdown",
   "metadata": {},
   "source": [
    "- Here df.isna may not be the best way to check missing values due to the size of the dataset."
   ]
  },
  {
   "cell_type": "code",
   "execution_count": null,
   "metadata": {},
   "outputs": [],
   "source": [
    "# Any missing values\n",
    "print('Any missing values? {}'.format(df.isnull().values.any()))\n",
    "\n",
    "# Breakdown of missing values\n",
    "print('[Missing Values Breakdown]\\n{}'.format(df.isnull().sum()))\n",
    "\n",
    "# Total number of missing values\n",
    "print('\\nTotal number of missing values = {}'.format(df.isnull().sum().sum()))\n",
    "\n",
    "#df.dropna(axis='columns', how='all').shape"
   ]
  },
  {
   "cell_type": "code",
   "execution_count": 109,
   "metadata": {},
   "outputs": [
    {
     "name": "stdout",
     "output_type": "stream",
     "text": [
      "        replyCount      viewCount       votes\n",
      "count   200.000000     200.000000  200.000000\n",
      "mean     14.005000    3745.345000    3.040000\n",
      "std     139.498257   28750.794683   26.399109\n",
      "min       0.000000       2.000000    0.000000\n",
      "25%       0.000000      15.000000    0.000000\n",
      "50%       2.000000      30.500000    0.000000\n",
      "75%       5.000000     105.500000    0.000000\n",
      "max    1975.000000  393750.000000  369.000000\n"
     ]
    },
    {
     "data": {
      "text/html": [
       "<div>\n",
       "<style scoped>\n",
       "    .dataframe tbody tr th:only-of-type {\n",
       "        vertical-align: middle;\n",
       "    }\n",
       "\n",
       "    .dataframe tbody tr th {\n",
       "        vertical-align: top;\n",
       "    }\n",
       "\n",
       "    .dataframe thead th {\n",
       "        text-align: right;\n",
       "    }\n",
       "</style>\n",
       "<table border=\"1\" class=\"dataframe\">\n",
       "  <thead>\n",
       "    <tr style=\"text-align: right;\">\n",
       "      <th></th>\n",
       "      <th>category</th>\n",
       "      <th>categoryLink</th>\n",
       "      <th>createdByLink</th>\n",
       "      <th>createdByName</th>\n",
       "      <th>createdByTime</th>\n",
       "      <th>lastReplyLink</th>\n",
       "      <th>lastReplyName</th>\n",
       "      <th>lastReplyTime</th>\n",
       "      <th>replyCount</th>\n",
       "      <th>subCategory</th>\n",
       "      <th>subCategoryLink</th>\n",
       "      <th>threadState</th>\n",
       "      <th>threadSummary</th>\n",
       "      <th>threadTitle</th>\n",
       "      <th>threadTitleLink</th>\n",
       "      <th>viewCount</th>\n",
       "      <th>votes</th>\n",
       "    </tr>\n",
       "  </thead>\n",
       "  <tbody>\n",
       "    <tr>\n",
       "      <th>0</th>\n",
       "      <td>Windows 10 IT Pro</td>\n",
       "      <td>https://social.technet.microsoft.com/Forums/en...</td>\n",
       "      <td>https://social.technet.microsoft.com:443/profi...</td>\n",
       "      <td>fredm3</td>\n",
       "      <td>a few seconds ago</td>\n",
       "      <td>https://social.technet.microsoft.com:443/profi...</td>\n",
       "      <td>fredm3</td>\n",
       "      <td>a few seconds ago</td>\n",
       "      <td>0</td>\n",
       "      <td>Windows 10 Security</td>\n",
       "      <td>https://social.technet.microsoft.com/Forums/en...</td>\n",
       "      <td>Unanswered</td>\n",
       "      <td>I was going to run this:\\r\\n\\r\\n\\r\\n\\r\\nWindow...</td>\n",
       "      <td>DisableIPSourceRouting in Registry</td>\n",
       "      <td>https://social.technet.microsoft.com/Forums/en...</td>\n",
       "      <td>2</td>\n",
       "      <td>0</td>\n",
       "    </tr>\n",
       "    <tr>\n",
       "      <th>1</th>\n",
       "      <td>Windows 10 IT Pro</td>\n",
       "      <td>https://social.technet.microsoft.com/Forums/en...</td>\n",
       "      <td>https://social.technet.microsoft.com:443/profi...</td>\n",
       "      <td>PradyothanaDP</td>\n",
       "      <td>9 hours 53 minutes ago</td>\n",
       "      <td>https://social.technet.microsoft.com:443/profi...</td>\n",
       "      <td>PradyothanaDP</td>\n",
       "      <td>9 hours 53 minutes ago</td>\n",
       "      <td>4</td>\n",
       "      <td>Windows 10 Security</td>\n",
       "      <td>https://social.technet.microsoft.com/Forums/en...</td>\n",
       "      <td>Unanswered</td>\n",
       "      <td>Hi All,\\r\\n\\r\\nWe notice this error in the SQL...</td>\n",
       "      <td>Parallel redo is started for database 'ReportS...</td>\n",
       "      <td>https://social.technet.microsoft.com/Forums/en...</td>\n",
       "      <td>53</td>\n",
       "      <td>0</td>\n",
       "    </tr>\n",
       "  </tbody>\n",
       "</table>\n",
       "</div>"
      ],
      "text/plain": [
       "            category                                       categoryLink  \\\n",
       "0  Windows 10 IT Pro  https://social.technet.microsoft.com/Forums/en...   \n",
       "1  Windows 10 IT Pro  https://social.technet.microsoft.com/Forums/en...   \n",
       "\n",
       "                                       createdByLink  createdByName  \\\n",
       "0  https://social.technet.microsoft.com:443/profi...         fredm3   \n",
       "1  https://social.technet.microsoft.com:443/profi...  PradyothanaDP   \n",
       "\n",
       "            createdByTime                                      lastReplyLink  \\\n",
       "0       a few seconds ago  https://social.technet.microsoft.com:443/profi...   \n",
       "1  9 hours 53 minutes ago  https://social.technet.microsoft.com:443/profi...   \n",
       "\n",
       "   lastReplyName           lastReplyTime  replyCount          subCategory  \\\n",
       "0         fredm3       a few seconds ago           0  Windows 10 Security   \n",
       "1  PradyothanaDP  9 hours 53 minutes ago           4  Windows 10 Security   \n",
       "\n",
       "                                     subCategoryLink threadState  \\\n",
       "0  https://social.technet.microsoft.com/Forums/en...  Unanswered   \n",
       "1  https://social.technet.microsoft.com/Forums/en...  Unanswered   \n",
       "\n",
       "                                       threadSummary  \\\n",
       "0  I was going to run this:\\r\\n\\r\\n\\r\\n\\r\\nWindow...   \n",
       "1  Hi All,\\r\\n\\r\\nWe notice this error in the SQL...   \n",
       "\n",
       "                                         threadTitle  \\\n",
       "0                 DisableIPSourceRouting in Registry   \n",
       "1  Parallel redo is started for database 'ReportS...   \n",
       "\n",
       "                                     threadTitleLink  viewCount  votes  \n",
       "0  https://social.technet.microsoft.com/Forums/en...          2      0  \n",
       "1  https://social.technet.microsoft.com/Forums/en...         53      0  "
      ]
     },
     "execution_count": 109,
     "metadata": {},
     "output_type": "execute_result"
    }
   ],
   "source": [
    "print(df.describe())\n",
    "df.head(2)"
   ]
  },
  {
   "cell_type": "markdown",
   "metadata": {},
   "source": [
    "- Reduce the dataframe, check out tho maximums, and get a closer look of selected features."
   ]
  },
  {
   "cell_type": "code",
   "execution_count": null,
   "metadata": {},
   "outputs": [],
   "source": [
    "#df.dtypes\n",
    "dropedCols = ['categoryLink', 'createdByLink', 'lastReplyLink', 'subCategoryLink', 'threadTitleLink']\n",
    "df1 = df.drop(dropedCols, axis='columns')\n",
    "df1"
   ]
  },
  {
   "cell_type": "code",
   "execution_count": null,
   "metadata": {},
   "outputs": [],
   "source": [
    "df[df.replyCount==max(df.replyCount)]"
   ]
  },
  {
   "cell_type": "code",
   "execution_count": null,
   "metadata": {},
   "outputs": [],
   "source": [
    "df[df.viewCount==max(df.viewCount)]"
   ]
  },
  {
   "cell_type": "code",
   "execution_count": null,
   "metadata": {},
   "outputs": [],
   "source": [
    "df[df.votes==max(df.votes)]"
   ]
  },
  {
   "cell_type": "markdown",
   "metadata": {},
   "source": [
    "Exmaine the stats."
   ]
  },
  {
   "cell_type": "code",
   "execution_count": null,
   "metadata": {},
   "outputs": [],
   "source": [
    "df1.head(2)\n",
    "# Top 10s\n",
    "a = df1.sort_values(by=['replyCount'],ascending=False)[0:11]\n",
    "a[['category','subCategory','threadState','replyCount']]"
   ]
  },
  {
   "cell_type": "code",
   "execution_count": null,
   "metadata": {},
   "outputs": [],
   "source": [
    "#threadStateList = [\n",
    "#    df1.groupby('threadState').unique()\n",
    "#]\n",
    "df1.groupby(['category', 'subCategory']).threadState.value_counts(normalize=True)\n"
   ]
  },
  {
   "cell_type": "code",
   "execution_count": null,
   "metadata": {},
   "outputs": [],
   "source": [
    "import webbrowser\n",
    "url = \"'\"+df[df.viewCount==max(df.viewCount)].threadTitleLink.astype(str)+\"'\"\n",
    "print(url); url.dtype # Cannot get a series converted to string using to_string or astype(str)\n",
    "#webbrowser.open( df[df.viewCount==max(df.viewCount)].threadTitleLink.to_string )\n",
    "#webbrowser.open( url )"
   ]
  },
  {
   "cell_type": "code",
   "execution_count": 297,
   "metadata": {},
   "outputs": [
    {
     "data": {
      "text/plain": [
       "category                  subCategory                                        \n",
       "Lync Server               Lync 2010 and OCS - Lync Clients and Devices           20\n",
       "SQL Server                Getting started with SQL Server                        20\n",
       "                          Power Pivot                                            20\n",
       "                          SQL Server Database Engine                             20\n",
       "                          SQL Server Reporting Services, Power View              20\n",
       "SQL Server (Pre-release)  Azure SQL Database                                     20\n",
       "SharePoint                SharePoint 2013 - General Discussions and Questions    20\n",
       "Windows 10 IT Pro         Windows 10 Security                                    20\n",
       "Windows Server            Remote Desktop Services (Terminal Services)            20\n",
       "                          Windows Server 2016 General                            20\n",
       "Name: subCategory, dtype: int64"
      ]
     },
     "execution_count": 297,
     "metadata": {},
     "output_type": "execute_result"
    }
   ],
   "source": [
    "#for c in df1.category:\n",
    "    df1.groupby(['category']).subCategory.value_counts()"
   ]
  },
  {
   "cell_type": "code",
   "execution_count": null,
   "metadata": {},
   "outputs": [],
   "source": []
  }
 ],
 "metadata": {
  "kernelspec": {
   "display_name": "Python 3",
   "language": "python",
   "name": "python3"
  },
  "language_info": {
   "codemirror_mode": {
    "name": "ipython",
    "version": 3
   },
   "file_extension": ".py",
   "mimetype": "text/x-python",
   "name": "python",
   "nbconvert_exporter": "python",
   "pygments_lexer": "ipython3",
   "version": "3.6.5"
  }
 },
 "nbformat": 4,
 "nbformat_minor": 2
}
